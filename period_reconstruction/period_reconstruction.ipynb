{
 "cells": [
  {
   "cell_type": "markdown",
   "metadata": {},
   "source": [
    "Vamos a intentar reconstruir el período (`PeriodLS`) de una estrella RRLyrae usando procesos gaussianos."
   ]
  },
  {
   "cell_type": "markdown",
   "metadata": {},
   "source": [
    "# Código Auxiliar"
   ]
  },
  {
   "cell_type": "markdown",
   "metadata": {},
   "source": [
    "## Imports\n",
    "Pongo los imports acá porque no discutimos organización de código."
   ]
  },
  {
   "cell_type": "code",
   "execution_count": 148,
   "metadata": {},
   "outputs": [],
   "source": [
    "import carpyncho\n",
    "import feets\n",
    "import numpy as np\n",
    "import matplotlib.pyplot as plt\n",
    "import pandas as pd\n",
    "from PyAstronomy.pyasl import foldAt\n",
    "from sklearn.gaussian_process import GaussianProcessRegressor"
   ]
  },
  {
   "cell_type": "markdown",
   "metadata": {},
   "source": [
    "## Funciones auxiliares\n",
    "Defino funciones auxiliares que no sé dónde van porque no discutimos organización de código."
   ]
  },
  {
   "cell_type": "markdown",
   "metadata": {},
   "source": [
    "### Manipulación de curvas de luz"
   ]
  },
  {
   "cell_type": "code",
   "execution_count": 149,
   "metadata": {},
   "outputs": [],
   "source": [
    "class LightCurve:\n",
    "    \"\"\"A class for manipulating light curves using hjd and periodic representations simulataneously.\"\"\"\n",
    "\n",
    "    def __init__(self, lc, period_catalog, model, seed=999):\n",
    "        self.period_catalog = period_catalog\n",
    "        self.model = model\n",
    "\n",
    "        self.rng = np.random.default_rng(seed)\n",
    "\n",
    "        lc.sort_values(\"pwp_stack_src_mag3\")\n",
    "        self.time, self.mag, self.err = (\n",
    "            lc.pwp_stack_src_hjd.values,\n",
    "            lc.pwp_stack_src_mag3.values,\n",
    "            lc.pwp_stack_src_mag_err3.values,\n",
    "        )\n",
    "        self.fs = feets.FeatureSpace(only=[\"PeriodLS\", \"Period_fit\"])\n",
    "        self.period = period_catalog\n",
    "        self._make_periodic()\n",
    "\n",
    "    \"\"\"Use Lomb-Scargle to obtain the period using the hjd representation.\"\"\"\n",
    "\n",
    "    def _calculate_period(self):\n",
    "        _, values = self.fs.extract(self.time, self.mag, self.err)\n",
    "        return values[0], values[1]\n",
    "\n",
    "    \"\"\"Generate the periodic representation with the current period and the hjd representation.\"\"\"\n",
    "\n",
    "    def _make_periodic(self):\n",
    "        phases = foldAt(self.time, self.period, T0=self.time[0])\n",
    "        sort = np.argsort(phases)\n",
    "        self.phases, self.pmag, self.perr = phases[sort], self.mag[sort], self.err[sort]\n",
    "\n",
    "    \"\"\"Train the model using the periodic representation.\"\"\"\n",
    "\n",
    "    def _train(self):\n",
    "        self.model.fit(self.phases, self.pmag)\n",
    "\n",
    "    \"\"\"Selects a hjd for synthetic observation generation.\"\"\"\n",
    "\n",
    "    def _select_hjd(self):\n",
    "        return self.rng.uniform(low=self.time.min(), high=self.time.max())\n",
    "\n",
    "    \"\"\"Returns the phase of the given hjd with the current period.\"\"\"\n",
    "\n",
    "    def _hjd_to_phase(self, hjd):\n",
    "        return np.absolute(hjd - self.time[0]) % self.period\n",
    "\n",
    "    \"\"\"Adds an observation to the hjd representation.\"\"\"\n",
    "\n",
    "    def _add_hjd_observation(self, hjd, mag, err):\n",
    "        self.time = np.append(self.time, hjd)\n",
    "        self.mag = np.append(self.mag, mag)\n",
    "        self.err = np.append(self.err, err)\n",
    "\n",
    "    \"\"\"Generates a single synthetic observation.\"\"\"\n",
    "\n",
    "    def _add_single_synthetic(self):\n",
    "        hjd = self._select_hjd()\n",
    "        phase = self._hjd_to_phase(hjd)\n",
    "        mean, std = self.model.predict(np.reshape(phase, (-1, 1)), return_std=True)\n",
    "        self._add_hjd_observation(hjd, mean[0], std[0])\n",
    "\n",
    "    \"\"\"\n",
    "    Generates n_synthetic observations using a random hjd. pmag and perr are obtained from\n",
    "    the model.\n",
    "    \"\"\"\n",
    "\n",
    "    def add_synthetic(self, n_synthetic):\n",
    "        for _ in range(n_synthetic):\n",
    "            self._add_single_synthetic()\n",
    "\n",
    "    \"\"\"\n",
    "    Calculates the period using the hjd representation. Using both, calculates the periodic representation.\n",
    "    Returns the calculated period and the period_fit (from Lomb-Scargle).\n",
    "    \"\"\"\n",
    "\n",
    "    def make_periodic(self):\n",
    "        self.period, period_fit = self._calculate_period()\n",
    "        self._make_periodic()\n",
    "        return self.period, period_fit"
   ]
  },
  {
   "cell_type": "markdown",
   "metadata": {},
   "source": [
    "### Graficación"
   ]
  },
  {
   "cell_type": "code",
   "execution_count": 150,
   "metadata": {},
   "outputs": [],
   "source": [
    "# Auxiliary plotting functions.\n",
    "\n",
    "# Given a light curve, plots magnitude vs HJD.\n",
    "def plot_chronological(lc: LightCurve):\n",
    "\n",
    "    fig, ax = plt.subplots(figsize=(12, 4))\n",
    "\n",
    "    ax.errorbar(\n",
    "        lc.time, lc.mag, lc.err, ls=\"\", marker=\"o\", color=\"tab:blue\", ecolor=\"tab:red\"\n",
    "    )\n",
    "\n",
    "    ax.set_title(f\"Light Curve\")\n",
    "    ax.set_ylabel(\"Magnitude\")\n",
    "    ax.set_xlabel(\"HJD\")\n",
    "\n",
    "    ax.invert_yaxis()\n",
    "    fig.tight_layout()\n",
    "\n",
    "\n",
    "# Given a periodic light curve, plots magnitude vs period in two phases.\n",
    "def plot_periodic(lc: LightCurve):\n",
    "    # duplicate the values in two phases\n",
    "    phases = np.hstack((lc.phases, lc.phases + 1))\n",
    "    pmag = np.hstack((lc.pmag, lc.pmag))\n",
    "    perr = np.hstack((lc.perr, lc.perr))\n",
    "\n",
    "    # plot the folded light curve\n",
    "    fig, ax = plt.subplots(figsize=(12, 4))\n",
    "    ax.errorbar(\n",
    "        phases, pmag, perr, ls=\"\", marker=\"o\", ecolor=\"tab:blue\", color=\"tab:red\"\n",
    "    )\n",
    "    ax.set_title(f\"Folded Light Curve\")\n",
    "    ax.set_ylabel(\"Magnitude\")\n",
    "    ax.set_xlabel(\"Phase\")\n",
    "    ax.invert_yaxis()\n",
    "\n",
    "    fig.tight_layout()"
   ]
  },
  {
   "cell_type": "markdown",
   "metadata": {},
   "source": [
    "# Reconstrucción de Período"
   ]
  },
  {
   "cell_type": "markdown",
   "metadata": {},
   "source": [
    "## Obtención de los datos\n",
    "Primero descargamos el tile `b278` y filtramos las RRLyrae."
   ]
  },
  {
   "cell_type": "code",
   "execution_count": 151,
   "metadata": {},
   "outputs": [],
   "source": [
    "# Instance the client and get the b278 tile catalogs.\n",
    "client = carpyncho.Carpyncho()\n",
    "b278_lc = client.get_catalog(\"b278\", \"lc\")\n",
    "b278_features = client.get_catalog(\"b278\", \"features\")\n",
    "\n",
    "# Filter RRLyraes from the catalogs.\n",
    "periodic_star_types = [\"RRLyr-RRab\", \"RRLyr-RRc\", \"RRLyr-RRd\"]\n",
    "b278_features = b278_features[b278_features[\"vs_type\"].isin(periodic_star_types)]\n",
    "b278_lc = b278_lc[b278_lc.bm_src_id.isin(b278_features.id.to_numpy())]"
   ]
  },
  {
   "cell_type": "markdown",
   "metadata": {},
   "source": [
    "Elegimos la RRLyrae con máxima cantidad de observaciones e inicializamos la clase monstruosa que está arriba."
   ]
  },
  {
   "cell_type": "code",
   "execution_count": 152,
   "metadata": {},
   "outputs": [],
   "source": [
    "# Find a star with maximum amount of observations.\n",
    "star = b278_features.loc[b278_features[\"cnt\"].idxmax()]\n",
    "# Get the observations for the star.\n",
    "light_curve = b278_lc[b278_lc.bm_src_id == star.id]\n",
    "\n",
    "lc = LightCurve(light_curve, star.PeriodLS, GaussianProcessRegressor())"
   ]
  },
  {
   "cell_type": "markdown",
   "metadata": {},
   "source": [
    "Graficamos la magnitud respecto de la fecha de la observación."
   ]
  },
  {
   "cell_type": "code",
   "execution_count": 153,
   "metadata": {},
   "outputs": [
    {
     "data": {
      "image/png": "[encoded data removed]",
      "text/plain": [
       "<Figure size 864x288 with 1 Axes>"
      ]
     },
     "metadata": {
      "needs_background": "light"
     },
     "output_type": "display_data"
    }
   ],
   "source": [
    "plot_chronological(lc)"
   ]
  },
  {
   "cell_type": "markdown",
   "metadata": {},
   "source": [
    "Graficamos la magnitud respecto del período que indica `PeriodLS` en el catálogo."
   ]
  },
  {
   "cell_type": "code",
   "execution_count": 154,
   "metadata": {},
   "outputs": [
    {
     "data": {
      "image/png": "[encoded data removed]",
      "text/plain": [
       "<Figure size 864x288 with 1 Axes>"
      ]
     },
     "metadata": {
      "needs_background": "light"
     },
     "output_type": "display_data"
    }
   ],
   "source": [
    "plot_periodic(lc)"
   ]
  },
  {
   "cell_type": "markdown",
   "metadata": {},
   "source": [
    "🤔🤔🤔🤔🤔🤔🤔🤔🤔🤔🤔🤔🤔🤔🤔🤔🤔🤔🤔🤔🤔🤔🤔🤔🤔🤔🤔🤔🤔🤔🤔🤔🤔🤔🤔🤔🤔🤔🤔🤔🤔🤔🤔🤔🤔🤔"
   ]
  },
  {
   "cell_type": "markdown",
   "metadata": {},
   "source": [
    "Veamos cuál es el período."
   ]
  },
  {
   "cell_type": "code",
   "execution_count": 155,
   "metadata": {},
   "outputs": [
    {
     "data": {
      "text/plain": [
       "0.5413489533666038"
      ]
     },
     "execution_count": 155,
     "metadata": {},
     "output_type": "execute_result"
    }
   ],
   "source": [
    "star.PeriodLS"
   ]
  },
  {
   "cell_type": "markdown",
   "metadata": {},
   "source": [
    "## Reconstrucción del período\n",
    "Ahora el experimento. Vamos a elegir `n_sample` puntos de la curva de luz al azar y vamos a poner esos puntos en fase usando Lomb-Scargle. Luego vamos a hacer `n_iter` veces lo siguiente:\n",
    "* Entrenar un proceso gaussiano con los puntos.\n",
    "* Utilizarlo para agregar `n_synthetic` puntos que se encuentran en un valor al azar (uniformemente distribuido) de la fase.\n",
    "* Utilizar todos los puntos para recalcular el período usando Lomb-Scargle.\n",
    "  \n",
    "Queremos ver si logramos acercarnos al período del catálogo."
   ]
  },
  {
   "cell_type": "code",
   "execution_count": 156,
   "metadata": {},
   "outputs": [],
   "source": [
    "# Parameters.\n",
    "n_sample = 60\n",
    "n_iter = 20\n",
    "n_synthetic = 2"
   ]
  },
  {
   "cell_type": "code",
   "execution_count": 157,
   "metadata": {},
   "outputs": [],
   "source": [
    "%%capture\n",
    "# TODO: La linea de arriba es porque se me enoja astropy con un deprecation warning que no importa ahora.\n",
    "period_list = []\n",
    "period_fit_list = []\n",
    "\n",
    "sample = light_curve.sample(n=n_sample)\n",
    "synthetic_lc = LightCurve(sample, star.PeriodLS, GaussianProcessRegressor())\n",
    "\n",
    "for _ in range(n_iter):\n",
    "    synthetic_lc.add_synthetic(n_synthetic)\n",
    "    period, period_fit = synthetic_lc.make_periodic()\n",
    "    period_list.append(period)\n",
    "    period_fit_list.append(period_fit)"
   ]
  },
  {
   "cell_type": "markdown",
   "metadata": {},
   "source": [
    "## Resultados"
   ]
  },
  {
   "cell_type": "markdown",
   "metadata": {},
   "source": [
    "A ver el período que calculó en cada paso..."
   ]
  },
  {
   "cell_type": "code",
   "execution_count": 158,
   "metadata": {},
   "outputs": [
    {
     "data": {
      "text/plain": [
       "[0.7836927367104235,\n",
       " 0.9972907023699962,\n",
       " 0.9971815955703278,\n",
       " 0.9972907023699962,\n",
       " 0.9971815955703278,\n",
       " 0.9971815955703278,\n",
       " 0.9971815955703278,\n",
       " 0.4993146004716964,\n",
       " 0.49928724901046706,\n",
       " 0.49928724901046706,\n",
       " 0.4993146004716964,\n",
       " 0.4993146004716964,\n",
       " 0.4993146004716964,\n",
       " 0.4993146004716964,\n",
       " 0.4993146004716964,\n",
       " 0.4993146004716964,\n",
       " 0.4993146004716964,\n",
       " 0.4993146004716964,\n",
       " 0.9972907023699962,\n",
       " 0.9972907023699962]"
      ]
     },
     "execution_count": 158,
     "metadata": {},
     "output_type": "execute_result"
    }
   ],
   "source": [
    "period_list"
   ]
  },
  {
   "cell_type": "markdown",
   "metadata": {},
   "source": [
    "Da horrible... Se clava en 0.5 o en 1."
   ]
  },
  {
   "cell_type": "code",
   "execution_count": 159,
   "metadata": {},
   "outputs": [
    {
     "data": {
      "text/plain": [
       "[1.0,\n",
       " 0.01574255233054378,\n",
       " 0.014365991620768792,\n",
       " 5.061548953422257e-05,\n",
       " 4.657848330813508e-06,\n",
       " 0.019932821824484748,\n",
       " 0.002917268583536581,\n",
       " 0.0014956726572896706,\n",
       " 0.00046790640172056364,\n",
       " 6.0559888204081425e-05,\n",
       " 4.130979088079467e-05,\n",
       " 9.624894698789799e-05,\n",
       " 9.269175980430866e-06,\n",
       " 6.350632428153702e-06,\n",
       " 4.063825732592008e-07,\n",
       " 5.234933781683715e-06,\n",
       " 1.4914132250298806e-05,\n",
       " 2.133116752800479e-05,\n",
       " 3.821802030112842e-05,\n",
       " 6.479206781762059e-06]"
      ]
     },
     "execution_count": 159,
     "metadata": {},
     "output_type": "execute_result"
    }
   ],
   "source": [
    "period_fit_list"
   ]
  },
  {
   "cell_type": "markdown",
   "metadata": {},
   "source": [
    "🤔🤔🤔🤔🤔🤔🤔🤔🤔🤔🤔🤔🤔🤔🤔🤔🤔🤔🤔🤔🤔🤔🤔🤔🤔🤔🤔🤔🤔🤔🤔🤔🤔🤔🤔🤔🤔🤔🤔🤔🤔🤔🤔🤔🤔🤔"
   ]
  },
  {
   "cell_type": "markdown",
   "metadata": {},
   "source": [
    "Y si graficamos los puntos queda algo nada que ver (obvio, porque el período no tiene nada que ver con el original)."
   ]
  },
  {
   "cell_type": "code",
   "execution_count": 160,
   "metadata": {},
   "outputs": [
    {
     "data": {
      "text/plain": [
       "0.9972907023699962"
      ]
     },
     "execution_count": 160,
     "metadata": {},
     "output_type": "execute_result"
    },
    {
     "data": {
      "image/png": "[encoded data removed]",
      "text/plain": [
       "<Figure size 864x288 with 1 Axes>"
      ]
     },
     "metadata": {
      "needs_background": "light"
     },
     "output_type": "display_data"
    }
   ],
   "source": [
    "plot_periodic(synthetic_lc)\n",
    "synthetic_lc.period"
   ]
  }
 ],
 "metadata": {
  "kernelspec": {
   "display_name": "Python 3.8.10 ('Tesina')",
   "language": "python",
   "name": "python3"
  },
  "language_info": {
   "codemirror_mode": {
    "name": "ipython",
    "version": 3
   },
   "file_extension": ".py",
   "mimetype": "text/x-python",
   "name": "python",
   "nbconvert_exporter": "python",
   "pygments_lexer": "ipython3",
   "version": "3.8.10"
  },
  "orig_nbformat": 4,
  "vscode": {
   "interpreter": {
    "hash": "2a604ad188f796043537634a355cf6c46bf243096e722e50b45494a1b4361d3b"
   }
  }
 },
 "nbformat": 4,
 "nbformat_minor": 2
}
