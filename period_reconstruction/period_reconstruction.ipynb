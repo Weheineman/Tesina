{
 "cells": [
  {
   "cell_type": "markdown",
   "metadata": {},
   "source": [
    "Vamos a intentar reconstruir el período (`PeriodLS`) de una estrella RRLyrae usando procesos gaussianos."
   ]
  },
  {
   "cell_type": "markdown",
   "metadata": {},
   "source": [
    "# Código Auxiliar"
   ]
  },
  {
   "cell_type": "markdown",
   "metadata": {},
   "source": [
    "## Imports\n",
    "Pongo los imports acá porque no discutimos organización de código."
   ]
  },
  {
   "cell_type": "code",
   "execution_count": 33,
   "metadata": {},
   "outputs": [],
   "source": [
    "import carpyncho\n",
    "import feets\n",
    "import numpy as np\n",
    "import matplotlib.pyplot as plt\n",
    "import pandas as pd\n",
    "from PyAstronomy.pyasl import foldAt\n",
    "from sklearn.gaussian_process import GaussianProcessRegressor"
   ]
  },
  {
   "cell_type": "markdown",
   "metadata": {},
   "source": [
    "## Funciones auxiliares\n",
    "Defino funciones auxiliares que no sé dónde van porque no discutimos organización de código."
   ]
  },
  {
   "cell_type": "markdown",
   "metadata": {},
   "source": [
    "### Manipulación de curvas de luz"
   ]
  },
  {
   "cell_type": "code",
   "execution_count": 34,
   "metadata": {},
   "outputs": [],
   "source": [
    "# Auxiliary functions for light curve manipulation.\n",
    "\n",
    "# Given a light curve, reorders the points by the given period.\n",
    "# If no period is given, it is calculated using Lomb-Scargle.\n",
    "def make_periodical(light_curve, period=None):\n",
    "    lc = light_curve.sort_values(\"pwp_stack_src_mag3\")\n",
    "\n",
    "    # split in time, magnitude and error\n",
    "    time, mag, err = (\n",
    "            lc.pwp_stack_src_hjd.values,\n",
    "            lc.pwp_stack_src_mag3.values,\n",
    "            lc.pwp_stack_src_mag_err3.values)\n",
    "\n",
    "    # t0 is the time with the lowest magnitude\n",
    "    t0 = time[0]\n",
    "\n",
    "    # TODO: Y Period_fit?\n",
    "    if period is None:\n",
    "        fs = feets.FeatureSpace(only=['PeriodLS', 'Period_fit'])\n",
    "        _, values = fs.extract(time, mag, err)\n",
    "        period = values[0]\n",
    "\n",
    "    # fold\n",
    "    phases = foldAt(time, period, T0=t0)\n",
    "    sort = np.argsort(phases)\n",
    "    phases, pmag, perr = phases[sort], mag[sort], err[sort]\n",
    "\n",
    "    lc = pd.DataFrame(data={'pmag': pmag, 'phases': phases, 'perr': perr})\n",
    "\n",
    "    return lc, period\n",
    "\n",
    "# Given a periodic light curve, uses Lomb-Scargle to recalculate the period\n",
    "# and rearranges the points using the new period.\n",
    "def recalculate_period(light_curve):\n",
    "    # t0 is the time with the lowest magnitude\n",
    "    lc = light_curve.sort_values(\"pmag\")\n",
    "    t0 = lc.phases[0]\n",
    "\n",
    "    # TODO: Y Period_fit?\n",
    "    fs = feets.FeatureSpace(only=['PeriodLS', 'Period_fit'])\n",
    "    features, values = fs.extract(lc.phases, lc.pmag, lc.perr)\n",
    "    period = values[0]\n",
    "\n",
    "\n",
    "    # get new period\n",
    "    phases = foldAt(lc.phases, period, T0=t0)\n",
    "    sort = np.argsort(phases)\n",
    "    phases, pmag, perr = phases[sort], lc.pmag[sort], lc.perr[sort]\n",
    "\n",
    "    lc = pd.DataFrame(data={'pmag': pmag, 'phases': phases, 'perr': perr})\n",
    "    return lc, values[0], values[1]\n",
    "\n",
    "# Given a periodic light curve, uses a gaussian process regressor to add\n",
    "# n_synthetic points at random phase values.\n",
    "def generate_points(period_lc, n_synthetic):\n",
    "    # split in time, magnitude and error\n",
    "    phases, pmag, perr = (\n",
    "            period_lc.phases.values,\n",
    "            period_lc.pmag.values,\n",
    "            period_lc.perr.values)\n",
    "\n",
    "    #TODO: Y el error? Por ahora le puse la media de los errores.\n",
    "    model = GaussianProcessRegressor()\n",
    "    model.fit(period_lc[['phases']], period_lc['pmag'])\n",
    "    synthetic_phases = np.random.rand(n_synthetic)\n",
    "    synthetic_mag = model.sample_y(synthetic_phases.reshape(-1, 1))\n",
    "    synthetic_err = np.full(n_synthetic, np.average(perr))\n",
    "\n",
    "    pmag = np.append(pmag, np.ndarray.flatten(synthetic_mag))\n",
    "    phases = np.append(phases, synthetic_phases)\n",
    "    perr = np.append(perr, synthetic_err)\n",
    "\n",
    "    lc = pd.DataFrame(data={'pmag': pmag, 'phases': phases, 'perr': perr})\n",
    "\n",
    "    return lc"
   ]
  },
  {
   "cell_type": "markdown",
   "metadata": {},
   "source": [
    "### Graficación"
   ]
  },
  {
   "cell_type": "code",
   "execution_count": 35,
   "metadata": {},
   "outputs": [],
   "source": [
    "# Auxiliary plotting functions.\n",
    "\n",
    "# Given a light curve, plots magnitude vs HJD.\n",
    "def plot_chronological(star, light_curve):\n",
    "    light_curve = light_curve.sort_values(\"pwp_stack_src_hjd\")\n",
    "\n",
    "    fig, ax = plt.subplots(figsize=(12, 4))\n",
    "\n",
    "    ax.errorbar(\n",
    "        light_curve.pwp_stack_src_hjd,\n",
    "        light_curve.pwp_stack_src_mag3,\n",
    "        light_curve.pwp_stack_src_mag_err3,\n",
    "        ls=\"\", marker=\"o\", color=\"tab:blue\", ecolor=\"tab:red\")\n",
    "\n",
    "    ax.set_title(f\"Light Curve of source {star.id}\")\n",
    "    ax.set_ylabel(\"Magnitude\")\n",
    "    ax.set_xlabel(\"HJD\")\n",
    "\n",
    "    ax.invert_yaxis()\n",
    "    fig.tight_layout()\n",
    "\n",
    "# Given a periodical light curve, plots magnitude vs period in two phases.\n",
    "def plot_periodical(period_lc):\n",
    "    # split in time, magnitude and error\n",
    "    phases, pmag, perr = (\n",
    "            period_lc.phases.values,\n",
    "            period_lc.pmag.values,\n",
    "            period_lc.perr.values)\n",
    "\n",
    "    # duplicate the values in two phases\n",
    "    phases = np.hstack((phases, phases + 1))\n",
    "    pmag = np.hstack((pmag, pmag))\n",
    "    perr = np.hstack((perr, perr))\n",
    "\n",
    "    # plot the folded light curve\n",
    "    fig, ax = plt.subplots(figsize=(12, 4))\n",
    "    ax.errorbar(phases, pmag, perr, ls=\"\", marker=\"o\", ecolor=\"tab:blue\", color=\"tab:red\")\n",
    "    ax.set_title(f\"Folded Light Curve of source ???\")\n",
    "    ax.set_ylabel(\"Magnitude\")\n",
    "    ax.set_xlabel(\"Phase\")\n",
    "    ax.invert_yaxis()\n",
    "\n",
    "    fig.tight_layout()"
   ]
  },
  {
   "cell_type": "markdown",
   "metadata": {},
   "source": [
    "# Reconstrucción de Período"
   ]
  },
  {
   "cell_type": "markdown",
   "metadata": {},
   "source": [
    "## Obtención de los datos\n",
    "Primero descargamos el tile `b214` y elegimos una estrella periódica clasificada (o sea con `vs_type` no vacío) con máxima cantidad de observaciones."
   ]
  },
  {
   "cell_type": "code",
   "execution_count": 36,
   "metadata": {},
   "outputs": [],
   "source": [
    "# Instance the client and get the b214 tile catalogs.\n",
    "client = carpyncho.Carpyncho()\n",
    "b214_lc = client.get_catalog(\"b214\", \"lc\")\n",
    "b214_features = client.get_catalog(\"b214\", \"features\")"
   ]
  },
  {
   "cell_type": "code",
   "execution_count": 37,
   "metadata": {},
   "outputs": [
    {
     "data": {
      "text/plain": [
       "id              32140000002913\n",
       "cnt                         68\n",
       "ra_k                280.582129\n",
       "dec_k               -25.299033\n",
       "vs_type             RRLyr-RRab\n",
       "                     ...      \n",
       "n09_jh_color          0.123061\n",
       "n09_jk_color          0.163291\n",
       "n09_m2                13.89353\n",
       "n09_m4               13.895081\n",
       "ppmb                  1.629816\n",
       "Name: 4456, Length: 73, dtype: object"
      ]
     },
     "execution_count": 37,
     "metadata": {},
     "output_type": "execute_result"
    }
   ],
   "source": [
    "# Find a classified variable star with maximum amount of observations.\n",
    "b214_features['vs_type'].replace('', np.nan, inplace=True)\n",
    "b214_features = b214_features[b214_features[\"vs_type\"].notna()]\n",
    "star = b214_features.loc[b214_features[\"cnt\"].idxmax()]\n",
    "star"
   ]
  },
  {
   "cell_type": "markdown",
   "metadata": {},
   "source": [
    "Nos tocó justo una RRLyrae. Qué bien. Nos traemos entonces la curva de luz."
   ]
  },
  {
   "cell_type": "code",
   "execution_count": 38,
   "metadata": {},
   "outputs": [],
   "source": [
    "# Get the observations for the star.\n",
    "light_curve = b214_lc[b214_lc.bm_src_id == star.id]"
   ]
  },
  {
   "cell_type": "markdown",
   "metadata": {},
   "source": [
    "Graficamos la magnitud respecto de la fecha de la observación."
   ]
  },
  {
   "cell_type": "code",
   "execution_count": 39,
   "metadata": {},
   "outputs": [
    {
     "data": {
      "image/png": "[encoded data removed]",
      "text/plain": [
       "<Figure size 864x288 with 1 Axes>"
      ]
     },
     "metadata": {
      "needs_background": "light"
     },
     "output_type": "display_data"
    }
   ],
   "source": [
    "plot_chronological(star, light_curve)"
   ]
  },
  {
   "cell_type": "markdown",
   "metadata": {},
   "source": [
    "Graficamos la magnitud respecto del período que indica `PeriodLS` en el catálogo."
   ]
  },
  {
   "cell_type": "code",
   "execution_count": 40,
   "metadata": {},
   "outputs": [
    {
     "data": {
      "image/png": "[encoded data removed]",
      "text/plain": [
       "<Figure size 864x288 with 1 Axes>"
      ]
     },
     "metadata": {
      "needs_background": "light"
     },
     "output_type": "display_data"
    }
   ],
   "source": [
    "period_lc, _ = make_periodical(light_curve, star.PeriodLS)\n",
    "plot_periodical(period_lc)"
   ]
  },
  {
   "cell_type": "markdown",
   "metadata": {},
   "source": [
    "Veamos cuál es el período."
   ]
  },
  {
   "cell_type": "code",
   "execution_count": 41,
   "metadata": {},
   "outputs": [
    {
     "data": {
      "text/plain": [
       "0.5798141360636985"
      ]
     },
     "execution_count": 41,
     "metadata": {},
     "output_type": "execute_result"
    }
   ],
   "source": [
    "star.PeriodLS"
   ]
  },
  {
   "cell_type": "markdown",
   "metadata": {},
   "source": [
    "## Reconstrucción del período\n",
    "Ahora el experimento. Vamos a elegir `n_sample` puntos de la curva de luz al azar y vamos a poner esos puntos en fase usando Lomb-Scargle. Luego vamos a hacer `n_iter` veces lo siguiente:\n",
    "* Entrenar un proceso gaussiano con los puntos.\n",
    "* Utilizarlo para agregar `n_synthetic` puntos que se encuentran en un valor al azar (uniformemente distribuido) de la fase.\n",
    "* Utilizar todos los puntos para recalcular el período usando Lomb-Scargle.\n",
    "  \n",
    "Queremos ver si logramos acercarnos al período del catálogo."
   ]
  },
  {
   "cell_type": "code",
   "execution_count": 42,
   "metadata": {},
   "outputs": [],
   "source": [
    "# Parameters.\n",
    "n_sample = 40\n",
    "n_iter = 10\n",
    "n_synthetic = 2"
   ]
  },
  {
   "cell_type": "code",
   "execution_count": 43,
   "metadata": {},
   "outputs": [],
   "source": [
    "%%capture\n",
    "# TODO: La linea de arriba es porque se me enoja astropy con un deprecation warning que no importa ahora.\n",
    "period_ls_list = []\n",
    "period_fit_list = []\n",
    "\n",
    "original_sample = light_curve.sample(n=n_sample)\n",
    "synthetic_lc, period_ls = make_periodical(original_sample)\n",
    "period_ls_list.append(period_ls)\n",
    "\n",
    "for _ in range(n_iter):\n",
    "    synthetic_lc = generate_points(synthetic_lc, n_synthetic)\n",
    "    synthetic_lc, period_ls, period_fit = recalculate_period(synthetic_lc)\n",
    "    period_ls_list.append(period_ls)\n",
    "    period_fit_list.append(period_fit)"
   ]
  },
  {
   "cell_type": "markdown",
   "metadata": {},
   "source": [
    "## Resultados"
   ]
  },
  {
   "cell_type": "markdown",
   "metadata": {},
   "source": [
    "A ver el período que calculó en cada paso..."
   ]
  },
  {
   "cell_type": "code",
   "execution_count": 44,
   "metadata": {},
   "outputs": [
    {
     "data": {
      "text/plain": [
       "[1.3853064136985709,\n",
       " 0.9041954081451629,\n",
       " 1.1012524543255235,\n",
       " 1.0,\n",
       " 1.0,\n",
       " 1.0,\n",
       " 1.0,\n",
       " 1.0,\n",
       " 1.0,\n",
       " 1.0939998083547555,\n",
       " 1.0000000000000004]"
      ]
     },
     "execution_count": 44,
     "metadata": {},
     "output_type": "execute_result"
    }
   ],
   "source": [
    "period_ls_list"
   ]
  },
  {
   "cell_type": "markdown",
   "metadata": {},
   "source": [
    "Da horrible... no sé si me da paz o no que se estabilice."
   ]
  },
  {
   "cell_type": "code",
   "execution_count": 45,
   "metadata": {},
   "outputs": [
    {
     "data": {
      "text/plain": [
       "[6.767146842889815e-10,\n",
       " 5.4203863619761705e-11,\n",
       " 2.9923841182721844e-12,\n",
       " 5.25135490647699e-13,\n",
       " 1.9206858326015208e-14,\n",
       " 1.9984014443252818e-15,\n",
       " 0.0,\n",
       " 0.0,\n",
       " 7.091823683857967e-09,\n",
       " 1.2209298017040737e-09]"
      ]
     },
     "execution_count": 45,
     "metadata": {},
     "output_type": "execute_result"
    }
   ],
   "source": [
    "period_fit_list"
   ]
  },
  {
   "cell_type": "markdown",
   "metadata": {},
   "source": [
    "A la vez vemos que cada vez estamos más convencidos del período que obtenemos (qué mal)."
   ]
  },
  {
   "cell_type": "markdown",
   "metadata": {},
   "source": [
    "Y si graficamos los puntos queda algo nada que ver (obvio, porque el período no tiene nada que ver con el original)."
   ]
  },
  {
   "cell_type": "code",
   "execution_count": 46,
   "metadata": {},
   "outputs": [
    {
     "data": {
      "text/plain": [
       "60"
      ]
     },
     "execution_count": 46,
     "metadata": {},
     "output_type": "execute_result"
    },
    {
     "data": {
      "image/png": "[encoded data removed]",
      "text/plain": [
       "<Figure size 864x288 with 1 Axes>"
      ]
     },
     "metadata": {
      "needs_background": "light"
     },
     "output_type": "display_data"
    }
   ],
   "source": [
    "plot_periodical(synthetic_lc)\n",
    "len(synthetic_lc)"
   ]
  }
 ],
 "metadata": {
  "kernelspec": {
   "display_name": "Python 3.8.10 ('Tesina')",
   "language": "python",
   "name": "python3"
  },
  "language_info": {
   "codemirror_mode": {
    "name": "ipython",
    "version": 3
   },
   "file_extension": ".py",
   "mimetype": "text/x-python",
   "name": "python",
   "nbconvert_exporter": "python",
   "pygments_lexer": "ipython3",
   "version": "3.8.10"
  },
  "orig_nbformat": 4,
  "vscode": {
   "interpreter": {
    "hash": "2a604ad188f796043537634a355cf6c46bf243096e722e50b45494a1b4361d3b"
   }
  }
 },
 "nbformat": 4,
 "nbformat_minor": 2
}
