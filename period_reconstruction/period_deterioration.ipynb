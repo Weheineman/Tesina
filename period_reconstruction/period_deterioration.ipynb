{
 "cells": [
  {
   "cell_type": "markdown",
   "metadata": {},
   "source": [
    "Vamos a intentar entender (aproximadamente) cuántos puntos de lc se necesitan para una estimación correcta del período."
   ]
  },
  {
   "cell_type": "markdown",
   "metadata": {},
   "source": [
    "# Código Auxiliar"
   ]
  },
  {
   "cell_type": "markdown",
   "metadata": {},
   "source": [
    "## Imports\n",
    "Pongo los imports acá porque no discutimos organización de código."
   ]
  },
  {
   "cell_type": "code",
   "execution_count": 97,
   "metadata": {},
   "outputs": [],
   "source": [
    "import carpyncho\n",
    "import feets\n",
    "import feets_patch\n",
    "import numpy as np\n",
    "import matplotlib.pyplot as plt\n",
    "import seaborn as sns\n",
    "\n",
    "from PyAstronomy.pyasl import foldAt\n",
    "from sklearn.gaussian_process import GaussianProcessRegressor"
   ]
  },
  {
   "cell_type": "markdown",
   "metadata": {},
   "source": [
    "## Funciones auxiliares\n",
    "Defino funciones auxiliares que no sé dónde van porque no discutimos organización de código."
   ]
  },
  {
   "cell_type": "markdown",
   "metadata": {},
   "source": [
    "### Manipulación de curvas de luz"
   ]
  },
  {
   "cell_type": "code",
   "execution_count": 98,
   "metadata": {},
   "outputs": [],
   "source": [
    "\n",
    "class LightCurve:\n",
    "    \"\"\"A class for manipulating light curves using hjd and periodic representations simulataneously.\"\"\"\n",
    "\n",
    "    def __init__(self, lc, period_catalog, model, seed=999):\n",
    "        self.period_catalog = period_catalog\n",
    "        self.model = model\n",
    "\n",
    "        self.rng = np.random.default_rng(seed)\n",
    "        self.discarded = []\n",
    "\n",
    "        lc.sort_values(\"pwp_stack_src_mag3\")\n",
    "        self.time, self.mag, self.err = (\n",
    "            lc.pwp_stack_src_hjd.values,\n",
    "            lc.pwp_stack_src_mag3.values,\n",
    "            lc.pwp_stack_src_mag_err3.values,\n",
    "        )\n",
    "        self.fs = feets.FeatureSpace(only=[\"PeriodLS\", \"Period_fit\"])\n",
    "        self.period = period_catalog\n",
    "        self._make_periodic()\n",
    "\n",
    "    \"\"\"Use Lomb-Scargle to obtain the period using the hjd representation.\"\"\"\n",
    "\n",
    "    def _calculate_period(self):\n",
    "        _, values = self.fs.extract(self.time, self.mag, self.err)\n",
    "        return values[0], values[1]\n",
    "\n",
    "    \"\"\"Generate the periodic representation with the current period and the hjd representation.\"\"\"\n",
    "\n",
    "    def _make_periodic(self):\n",
    "        phases = foldAt(self.time, self.period, T0=self.time[0])\n",
    "        sort = np.argsort(phases)\n",
    "        self.phases, self.pmag, self.perr = phases[sort], self.mag[sort], self.err[sort]\n",
    "\n",
    "    \"\"\"Train the model using the periodic representation.\"\"\"\n",
    "\n",
    "    def _train(self):\n",
    "        self.model.fit(self.phases, self.pmag)\n",
    "\n",
    "    \"\"\"Selects a hjd for synthetic observation generation.\"\"\"\n",
    "\n",
    "    def _select_hjd(self):\n",
    "        return self.rng.uniform(low=self.time.min(), high=self.time.max())\n",
    "\n",
    "    \"\"\"Returns the phase of the given hjd with the current period.\"\"\"\n",
    "\n",
    "    def _hjd_to_phase(self, hjd):\n",
    "        return np.absolute(hjd - self.time[0]) % self.period\n",
    "\n",
    "    \"\"\"Adds an observation to the hjd representation.\"\"\"\n",
    "\n",
    "    def _add_hjd_observation(self, hjd, mag, err):\n",
    "        self.time = np.append(self.time, hjd)\n",
    "        self.mag = np.append(self.mag, mag)\n",
    "        self.err = np.append(self.err, err)\n",
    "\n",
    "    \"\"\"Generates a single synthetic observation.\"\"\"\n",
    "\n",
    "    def _add_single_synthetic(self):\n",
    "        hjd = self._select_hjd()\n",
    "        phase = self._hjd_to_phase(hjd)\n",
    "        mean, std = self.model.predict(np.reshape(phase, (-1, 1)), return_std=True)\n",
    "        self._add_hjd_observation(hjd, mean[0], std[0])\n",
    "\n",
    "    \"\"\"\n",
    "    Generates n_synthetic observations using a random hjd. pmag and perr are obtained from\n",
    "    the model.\n",
    "    \"\"\"\n",
    "\n",
    "    def add_synthetic(self, n_synthetic):\n",
    "        for _ in range(n_synthetic):\n",
    "            self._add_single_synthetic()\n",
    "\n",
    "    \"\"\"\n",
    "    Calculates the period using the hjd representation. Using both, calculates the periodic representation.\n",
    "    Returns the calculated period and the period_fit (from Lomb-Scargle).\n",
    "    \"\"\"\n",
    "\n",
    "    def make_periodic(self):\n",
    "        self.period, period_fit = self._calculate_period()\n",
    "        self._make_periodic()\n",
    "        return self.period, period_fit\n",
    "\n",
    "    \"\"\"\n",
    "    Generates a subsample of the light curve of size n_sample by deleting points at random.\n",
    "    Deleted points are stored in a list called \"discarded\".\n",
    "    \"\"\"\n",
    "\n",
    "    def subsample(self, n_sample: int):\n",
    "        tuple_list = [(t, m, e) for t, m, e in zip(self.time, self.mag, self.err)]\n",
    "        tuple_list = self.rng.permutation(tuple_list)\n",
    "        self.discarded.append(tuple_list[n_sample:])\n",
    "        sample = sorted(tuple_list[:n_sample], key=lambda x: x[1]) \n",
    "        self.time, self.mag, self.err = [np.array(l) for l in zip(*sample)]\n",
    "    \n",
    "    \"\"\"\n",
    "    Removes the observations with a signal-to-noise ratio lower than SNR.\n",
    "    \"\"\"\n",
    "    def filter_snr(self, SNR: float):\n",
    "        tuple_list = [(t, m, e) for t, m, e in zip(self.time, self.mag, self.err)]\n",
    "        filtered = list(filter(lambda x: x[1]/x[2] > SNR, tuple_list))\n",
    "        self.time, self.mag, self.err = [np.array(l) for l in zip(*filtered)]\n",
    "\n",
    "    \"\"\"\n",
    "    Uses feets to remove noisy points using sigma clipping.\n",
    "    \"\"\"\n",
    "    def filter_sigma_clipping(self):\n",
    "        self.time, self.mag, self.err = feets.preprocess.remove_noise(self.time, self.mag, self.err)\n"
   ]
  },
  {
   "cell_type": "markdown",
   "metadata": {},
   "source": [
    "# Deterioro del Período"
   ]
  },
  {
   "cell_type": "markdown",
   "metadata": {},
   "source": [
    "## Obtención de los datos\n",
    "Primero descargamos el tile `b278` porque es el tile favorito de Pablo. Chequeamos qué tipos de estrellas periódicas están clasificados."
   ]
  },
  {
   "cell_type": "code",
   "execution_count": 99,
   "metadata": {},
   "outputs": [],
   "source": [
    "min_obs = 43"
   ]
  },
  {
   "cell_type": "code",
   "execution_count": 100,
   "metadata": {},
   "outputs": [
    {
     "data": {
      "text/plain": [
       "<StringArray>\n",
       "[           '',      'ECL-NC',  'RRLyr-RRab',   'LPV-OSARG',       'ECL-C',\n",
       "     'LPV-SRV',   'RRLyr-RRc',     'ECL-ELL',    'LPV-Mira', 'T2Cep-BLHer',\n",
       "       'CV-DN', 'T2Cep-RVTau',  'T2Cep-WVir',   'RRLyr-RRd',    'SP_ECL-C',\n",
       "   'SP_ECL-NC',        'BLAP',       'Cep-1',       'Cep-F']\n",
       "Length: 19, dtype: string"
      ]
     },
     "execution_count": 100,
     "metadata": {},
     "output_type": "execute_result"
    }
   ],
   "source": [
    "# Instance the client and get the b278 tile catalogs.\n",
    "client = carpyncho.Carpyncho()\n",
    "b278_lc = client.get_catalog(\"b278\", \"lc\")\n",
    "b278_features = client.get_catalog(\"b278\", \"features\")\n",
    "b278_features.vs_type.unique()"
   ]
  },
  {
   "cell_type": "markdown",
   "metadata": {},
   "source": [
    "Seguro hay alguna periódica que no conozco, pero sí conozco las RRLyrae. Me quedo con esas."
   ]
  },
  {
   "cell_type": "code",
   "execution_count": 101,
   "metadata": {},
   "outputs": [],
   "source": [
    "periodic_star_types = [\"RRLyr-RRab\", \"RRLyr-RRc\", \"RRLyr-RRd\"]\n",
    "b278_features = b278_features[b278_features[\"vs_type\"].isin(periodic_star_types)]\n",
    "b278_lc = b278_lc[b278_lc.bm_src_id.isin(b278_features.id.to_numpy())]"
   ]
  },
  {
   "cell_type": "markdown",
   "metadata": {},
   "source": [
    "La meto en mi clase."
   ]
  },
  {
   "cell_type": "code",
   "execution_count": 102,
   "metadata": {},
   "outputs": [],
   "source": [
    "# for star in b278_features:\n",
    "star = b278_features.loc[b278_features[\"cnt\"].idxmax()]\n",
    "# Get the observations for the star.\n",
    "light_curve = b278_lc[b278_lc.bm_src_id == star.id]\n",
    "\n",
    "lc = LightCurve(light_curve, star.PeriodLS, GaussianProcessRegressor())"
   ]
  },
  {
   "cell_type": "markdown",
   "metadata": {},
   "source": [
    "Intenté filtrar por 20 SNR... pero sin éxito."
   ]
  },
  {
   "cell_type": "code",
   "execution_count": 103,
   "metadata": {},
   "outputs": [
    {
     "name": "stdout",
     "output_type": "stream",
     "text": [
      "318 318\n"
     ]
    }
   ],
   "source": [
    "filtered_lc = LightCurve(light_curve, star.PeriodLS, GaussianProcessRegressor())\n",
    "filtered_lc.filter_snr(20)\n",
    "print(f\"{len(lc.time)} {len(filtered_lc.time)}\")"
   ]
  },
  {
   "cell_type": "markdown",
   "metadata": {},
   "source": [
    "Y el sigma clipping de feets me da error. ¿Cómo que no existe [feets.preprocess](https://feets.readthedocs.io/en/latest/api/feets.html#module-feets.preprocess)?"
   ]
  },
  {
   "cell_type": "markdown",
   "metadata": {},
   "source": []
  },
  {
   "cell_type": "code",
   "execution_count": 104,
   "metadata": {},
   "outputs": [
    {
     "ename": "AttributeError",
     "evalue": "module 'feets' has no attribute 'preprocess'",
     "output_type": "error",
     "traceback": [
      "\u001b[0;31m---------------------------------------------------------------------------\u001b[0m",
      "\u001b[0;31mAttributeError\u001b[0m                            Traceback (most recent call last)",
      "\u001b[0;32m/tmp/ipykernel_27130/2711477343.py\u001b[0m in \u001b[0;36m<cell line: 2>\u001b[0;34m()\u001b[0m\n\u001b[1;32m      1\u001b[0m \u001b[0mclipped_lc\u001b[0m \u001b[0;34m=\u001b[0m \u001b[0mLightCurve\u001b[0m\u001b[0;34m(\u001b[0m\u001b[0mlight_curve\u001b[0m\u001b[0;34m,\u001b[0m \u001b[0mstar\u001b[0m\u001b[0;34m.\u001b[0m\u001b[0mPeriodLS\u001b[0m\u001b[0;34m,\u001b[0m \u001b[0mGaussianProcessRegressor\u001b[0m\u001b[0;34m(\u001b[0m\u001b[0;34m)\u001b[0m\u001b[0;34m)\u001b[0m\u001b[0;34m\u001b[0m\u001b[0;34m\u001b[0m\u001b[0m\n\u001b[0;32m----> 2\u001b[0;31m \u001b[0mclipped_lc\u001b[0m\u001b[0;34m.\u001b[0m\u001b[0mfilter_sigma_clipping\u001b[0m\u001b[0;34m(\u001b[0m\u001b[0;34m)\u001b[0m\u001b[0;34m\u001b[0m\u001b[0;34m\u001b[0m\u001b[0m\n\u001b[0m\u001b[1;32m      3\u001b[0m \u001b[0mprint\u001b[0m\u001b[0;34m(\u001b[0m\u001b[0;34mf\"{len(lc.time)} {len(clipped_lc.time)}\"\u001b[0m\u001b[0;34m)\u001b[0m\u001b[0;34m\u001b[0m\u001b[0;34m\u001b[0m\u001b[0m\n",
      "\u001b[0;32m/tmp/ipykernel_27130/1051830799.py\u001b[0m in \u001b[0;36mfilter_sigma_clipping\u001b[0;34m(self)\u001b[0m\n\u001b[1;32m    105\u001b[0m     \"\"\"\n\u001b[1;32m    106\u001b[0m     \u001b[0;32mdef\u001b[0m \u001b[0mfilter_sigma_clipping\u001b[0m\u001b[0;34m(\u001b[0m\u001b[0mself\u001b[0m\u001b[0;34m)\u001b[0m\u001b[0;34m:\u001b[0m\u001b[0;34m\u001b[0m\u001b[0;34m\u001b[0m\u001b[0m\n\u001b[0;32m--> 107\u001b[0;31m         \u001b[0mself\u001b[0m\u001b[0;34m.\u001b[0m\u001b[0mtime\u001b[0m\u001b[0;34m,\u001b[0m \u001b[0mself\u001b[0m\u001b[0;34m.\u001b[0m\u001b[0mmag\u001b[0m\u001b[0;34m,\u001b[0m \u001b[0mself\u001b[0m\u001b[0;34m.\u001b[0m\u001b[0merr\u001b[0m \u001b[0;34m=\u001b[0m \u001b[0mfeets\u001b[0m\u001b[0;34m.\u001b[0m\u001b[0mpreprocess\u001b[0m\u001b[0;34m.\u001b[0m\u001b[0mremove_noise\u001b[0m\u001b[0;34m(\u001b[0m\u001b[0mself\u001b[0m\u001b[0;34m.\u001b[0m\u001b[0mtime\u001b[0m\u001b[0;34m,\u001b[0m \u001b[0mself\u001b[0m\u001b[0;34m.\u001b[0m\u001b[0mmag\u001b[0m\u001b[0;34m,\u001b[0m \u001b[0mself\u001b[0m\u001b[0;34m.\u001b[0m\u001b[0merr\u001b[0m\u001b[0;34m)\u001b[0m\u001b[0;34m\u001b[0m\u001b[0;34m\u001b[0m\u001b[0m\n\u001b[0m",
      "\u001b[0;31mAttributeError\u001b[0m: module 'feets' has no attribute 'preprocess'"
     ]
    }
   ],
   "source": [
    "clipped_lc = LightCurve(light_curve, star.PeriodLS, GaussianProcessRegressor())\n",
    "clipped_lc.filter_sigma_clipping()\n",
    "print(f\"{len(lc.time)} {len(clipped_lc.time)}\")"
   ]
  },
  {
   "cell_type": "markdown",
   "metadata": {},
   "source": [
    "Para cada cantidad de observaciones entre `min_obs` y la total disponible, buscamos el período."
   ]
  },
  {
   "cell_type": "code",
   "execution_count": null,
   "metadata": {},
   "outputs": [
    {
     "name": "stderr",
     "output_type": "stream",
     "text": [
      "WARNING: AstropyDeprecationWarning: Importing LombScargle from astropy.stats has been deprecated and will no longer be supported in future. Please import this class from the astropy.timeseries module instead [astropy.stats.lombscargle]\n"
     ]
    }
   ],
   "source": [
    "period_list = []\n",
    "size_list = []\n",
    "\n",
    "for n_sample in range(len(light_curve), min_obs, -1):\n",
    "    lc.subsample(n_sample)\n",
    "    period, _ = lc.make_periodic()\n",
    "    period_list.append(period)\n",
    "    size_list.append(n_sample)"
   ]
  },
  {
   "cell_type": "markdown",
   "metadata": {},
   "source": [
    "A graficar!"
   ]
  },
  {
   "cell_type": "code",
   "execution_count": null,
   "metadata": {},
   "outputs": [
    {
     "data": {
      "image/png": "[encoded data removed]",
      "text/plain": [
       "<Figure size 432x288 with 1 Axes>"
      ]
     },
     "metadata": {
      "needs_background": "light"
     },
     "output_type": "display_data"
    }
   ],
   "source": [
    "plt.plot(size_list, period_list, color=\"tab:blue\", label=\"periodo calculado\")\n",
    "plt.axhline(y=star.PeriodLS, color=\"tab:orange\", label=\"periodo del catalogo\")\n",
    "plt.xlabel(\"cantidad de observaciones\")\n",
    "plt.ylabel(\"periodo\")\n",
    "plt.legend()\n",
    "plt.tight_layout()\n",
    "plt.show()"
   ]
  },
  {
   "cell_type": "markdown",
   "metadata": {},
   "source": [
    "Eventualmente se estabiliza. Soy feliz. Aunque sinceramente no sé si se debe al monkeypatch o qué.\n",
    "\n",
    "![code_works](code_works.png)"
   ]
  }
 ],
 "metadata": {
  "kernelspec": {
   "display_name": "Python 3.8.10 ('Tesina')",
   "language": "python",
   "name": "python3"
  },
  "language_info": {
   "codemirror_mode": {
    "name": "ipython",
    "version": 3
   },
   "file_extension": ".py",
   "mimetype": "text/x-python",
   "name": "python",
   "nbconvert_exporter": "python",
   "pygments_lexer": "ipython3",
   "version": "3.8.10"
  },
  "orig_nbformat": 4,
  "vscode": {
   "interpreter": {
    "hash": "2a604ad188f796043537634a355cf6c46bf243096e722e50b45494a1b4361d3b"
   }
  }
 },
 "nbformat": 4,
 "nbformat_minor": 2
}
