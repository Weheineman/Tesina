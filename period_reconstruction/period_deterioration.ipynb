{
 "cells": [
  {
   "cell_type": "markdown",
   "metadata": {},
   "source": [
    "Vamos a intentar entender (aproximadamente) cuántos puntos de lc se necesitan para una estimación correcta del período."
   ]
  },
  {
   "cell_type": "markdown",
   "metadata": {},
   "source": [
    "# Código Auxiliar"
   ]
  },
  {
   "cell_type": "markdown",
   "metadata": {},
   "source": [
    "## Imports\n",
    "Pongo los imports acá porque no discutimos organización de código."
   ]
  },
  {
   "cell_type": "code",
   "execution_count": 129,
   "metadata": {},
   "outputs": [],
   "source": [
    "import carpyncho\n",
    "import feets\n",
    "import numpy as np\n",
    "import matplotlib.pyplot as plt\n",
    "import seaborn as sns"
   ]
  },
  {
   "cell_type": "markdown",
   "metadata": {},
   "source": [
    "## Funciones auxiliares\n",
    "Defino funciones auxiliares que no sé dónde van porque no discutimos organización de código."
   ]
  },
  {
   "cell_type": "markdown",
   "metadata": {},
   "source": [
    "### Manipulación de curvas de luz"
   ]
  },
  {
   "cell_type": "code",
   "execution_count": 130,
   "metadata": {},
   "outputs": [],
   "source": [
    "# Auxiliary functions for light curve manipulation.\n",
    "\n",
    "# Given a light curve, calculates a period using Lomb-Scargle.\n",
    "def get_period(light_curve):\n",
    "    lc = light_curve.sort_values(\"pwp_stack_src_mag3\")\n",
    "\n",
    "    # split in time, magnitude and error\n",
    "    time, mag, err = (\n",
    "        lc.pwp_stack_src_hjd.values,\n",
    "        lc.pwp_stack_src_mag3.values,\n",
    "        lc.pwp_stack_src_mag_err3.values,\n",
    "    )\n",
    "\n",
    "    # t0 is the time with the lowest magnitude\n",
    "    t0 = time[0]\n",
    "\n",
    "    fs = feets.FeatureSpace(only=[\"PeriodLS\", \"Period_fit\"])\n",
    "    _, values = fs.extract(time, mag, err)\n",
    "    return values[0]"
   ]
  },
  {
   "cell_type": "markdown",
   "metadata": {},
   "source": [
    "# Deterioro del Período"
   ]
  },
  {
   "cell_type": "markdown",
   "metadata": {},
   "source": [
    "## Obtención de los datos\n",
    "Primero descargamos el tile `b278` porque es el tile favorito de Pablo. Chequeamos qué tipos de estrellas periódicas están clasificados."
   ]
  },
  {
   "cell_type": "code",
   "execution_count": 131,
   "metadata": {},
   "outputs": [],
   "source": [
    "min_obs = 43"
   ]
  },
  {
   "cell_type": "code",
   "execution_count": 132,
   "metadata": {},
   "outputs": [
    {
     "data": {
      "text/plain": [
       "<StringArray>\n",
       "[           '',      'ECL-NC',  'RRLyr-RRab',   'LPV-OSARG',       'ECL-C',\n",
       "     'LPV-SRV',   'RRLyr-RRc',     'ECL-ELL',    'LPV-Mira', 'T2Cep-BLHer',\n",
       "       'CV-DN', 'T2Cep-RVTau',  'T2Cep-WVir',   'RRLyr-RRd',    'SP_ECL-C',\n",
       "   'SP_ECL-NC',        'BLAP',       'Cep-1',       'Cep-F']\n",
       "Length: 19, dtype: string"
      ]
     },
     "execution_count": 132,
     "metadata": {},
     "output_type": "execute_result"
    }
   ],
   "source": [
    "# Instance the client and get the b278 tile catalogs.\n",
    "client = carpyncho.Carpyncho()\n",
    "b278_lc = client.get_catalog(\"b278\", \"lc\")\n",
    "b278_features = client.get_catalog(\"b278\", \"features\")\n",
    "b278_features.vs_type.unique()"
   ]
  },
  {
   "cell_type": "markdown",
   "metadata": {},
   "source": [
    "Seguro hay alguna periódica que no conozco, pero sí conozco las RRLyrae. Me quedo con esas."
   ]
  },
  {
   "cell_type": "code",
   "execution_count": 133,
   "metadata": {},
   "outputs": [],
   "source": [
    "periodic_star_types = [\"RRLyr-RRab\", \"RRLyr-RRc\", \"RRLyr-RRd\"]\n",
    "b278_features = b278_features[b278_features[\"vs_type\"].isin(periodic_star_types)]\n",
    "b278_lc = b278_lc[b278_lc.bm_src_id.isin(b278_features.id.to_numpy())]"
   ]
  },
  {
   "cell_type": "markdown",
   "metadata": {},
   "source": [
    "Esto se hace lindo en un for para todas las estrellas, pero para arrancar me conformo con agarrar la que más observaciones tiene."
   ]
  },
  {
   "cell_type": "code",
   "execution_count": 134,
   "metadata": {},
   "outputs": [],
   "source": [
    "# for star in b278_features:\n",
    "star = b278_features.loc[b278_features[\"cnt\"].idxmax()]\n",
    "# Get the observations for the star.\n",
    "light_curve = b278_lc[b278_lc.bm_src_id == star.id]"
   ]
  },
  {
   "cell_type": "markdown",
   "metadata": {},
   "source": [
    "Para cada cantidad de observaciones entre `min_obs` y la total disponible, buscamos el período."
   ]
  },
  {
   "cell_type": "code",
   "execution_count": 135,
   "metadata": {},
   "outputs": [
    {
     "name": "stderr",
     "output_type": "stream",
     "text": [
      "WARNING: AstropyDeprecationWarning: Importing LombScargle from astropy.stats has been deprecated and will no longer be supported in future. Please import this class from the astropy.timeseries module instead [astropy.stats.lombscargle]\n"
     ]
    }
   ],
   "source": [
    "period_list = []\n",
    "obs_list = []\n",
    "# TODO: Madre mia que feo ese +1.\n",
    "for n_obs in range(min_obs, len(light_curve) + 1):\n",
    "    lc_sample = light_curve.sample(n_obs)\n",
    "    period = get_period(lc_sample)\n",
    "    period_list.append(period)\n",
    "    obs_list.append(n_obs)"
   ]
  },
  {
   "cell_type": "markdown",
   "metadata": {},
   "source": [
    "A graficar!"
   ]
  },
  {
   "cell_type": "code",
   "execution_count": 136,
   "metadata": {},
   "outputs": [
    {
     "data": {
      "image/png": "[encoded data removed]",
      "text/plain": [
       "<Figure size 432x288 with 1 Axes>"
      ]
     },
     "metadata": {
      "needs_background": "light"
     },
     "output_type": "display_data"
    }
   ],
   "source": [
    "plt.plot(obs_list, period_list, color=\"tab:blue\")\n",
    "plt.axhline(y=star.PeriodLS, color=\"tab:orange\")\n",
    "plt.show()"
   ]
  },
  {
   "cell_type": "markdown",
   "metadata": {},
   "source": [
    "Horrible. A ver la distribución respecto al módulo del período del catálogo..."
   ]
  },
  {
   "cell_type": "code",
   "execution_count": 137,
   "metadata": {},
   "outputs": [
    {
     "data": {
      "image/png": "[encoded data removed]",
      "text/plain": [
       "<Figure size 432x288 with 1 Axes>"
      ]
     },
     "metadata": {
      "needs_background": "light"
     },
     "output_type": "display_data"
    }
   ],
   "source": [
    "period_distr = np.array(period_list) / star.PeriodLS\n",
    "ax = sns.kdeplot(period_distr)"
   ]
  },
  {
   "cell_type": "markdown",
   "metadata": {},
   "source": [
    "Calculemos la moda."
   ]
  },
  {
   "cell_type": "code",
   "execution_count": 138,
   "metadata": {},
   "outputs": [
    {
     "data": {
      "text/plain": [
       "3.2247305922872584"
      ]
     },
     "execution_count": 138,
     "metadata": {},
     "output_type": "execute_result"
    }
   ],
   "source": [
    "x = ax.lines[0].get_xdata()\n",
    "y = ax.lines[0].get_ydata()\n",
    "x[y.argmax()]"
   ]
  },
  {
   "cell_type": "markdown",
   "metadata": {},
   "source": [
    "Hagamos una distribución de las modas a ver si tiene algún sentido."
   ]
  },
  {
   "cell_type": "code",
   "execution_count": 168,
   "metadata": {},
   "outputs": [],
   "source": [
    "%%capture\n",
    "mode_file = open(\"mode_file\", \"a\")\n",
    "\n",
    "n_iterations = 1\n",
    "for _ in range(n_iterations):\n",
    "    period_list = []\n",
    "    # TODO: Madre mia que feo ese +1.\n",
    "    for n_obs in range(min_obs, len(light_curve) + 1):\n",
    "        lc_sample = light_curve.sample(n_obs)\n",
    "        period = get_period(lc_sample)\n",
    "        period_list.append(period)\n",
    "\n",
    "    period_distr = np.array(period_list) / star.PeriodLS\n",
    "    ax = sns.kdeplot(period_distr)\n",
    "    x = ax.lines[0].get_xdata()\n",
    "    y = ax.lines[0].get_ydata()\n",
    "    mode_file.write(f\"{x[y.argmax()]}\\n\")"
   ]
  },
  {
   "cell_type": "code",
   "execution_count": 185,
   "metadata": {},
   "outputs": [
    {
     "data": {
      "text/plain": [
       "2.0234304816506055"
      ]
     },
     "execution_count": 185,
     "metadata": {},
     "output_type": "execute_result"
    },
    {
     "data": {
      "image/png": "[encoded data removed]",
      "text/plain": [
       "<Figure size 432x288 with 1 Axes>"
      ]
     },
     "metadata": {
      "needs_background": "light"
     },
     "output_type": "display_data"
    }
   ],
   "source": [
    "ax = sns.kdeplot(np.loadtxt(\"mode_file\"))\n",
    "x = ax.lines[0].get_xdata()\n",
    "y = ax.lines[0].get_ydata()\n",
    "x[y.argmax()]"
   ]
  }
 ],
 "metadata": {
  "kernelspec": {
   "display_name": "Python 3.8.10 ('Tesina')",
   "language": "python",
   "name": "python3"
  },
  "language_info": {
   "codemirror_mode": {
    "name": "ipython",
    "version": 3
   },
   "file_extension": ".py",
   "mimetype": "text/x-python",
   "name": "python",
   "nbconvert_exporter": "python",
   "pygments_lexer": "ipython3",
   "version": "3.8.10"
  },
  "orig_nbformat": 4,
  "vscode": {
   "interpreter": {
    "hash": "2a604ad188f796043537634a355cf6c46bf243096e722e50b45494a1b4361d3b"
   }
  }
 },
 "nbformat": 4,
 "nbformat_minor": 2
}
